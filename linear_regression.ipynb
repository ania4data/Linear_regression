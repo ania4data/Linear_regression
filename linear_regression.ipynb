{
 "cells": [
  {
   "cell_type": "code",
   "execution_count": 38,
   "metadata": {},
   "outputs": [],
   "source": [
    "import numpy as np\n",
    "import pandas as pd\n",
    "import matplotlib.pyplot as plt\n",
    "\n",
    "X=[]\n",
    "Y=[]\n",
    "\n",
    "\n"
   ]
  },
  {
   "cell_type": "code",
   "execution_count": 17,
   "metadata": {},
   "outputs": [
    {
     "data": {
      "text/html": [
       "<div>\n",
       "<style scoped>\n",
       "    .dataframe tbody tr th:only-of-type {\n",
       "        vertical-align: middle;\n",
       "    }\n",
       "\n",
       "    .dataframe tbody tr th {\n",
       "        vertical-align: top;\n",
       "    }\n",
       "\n",
       "    .dataframe thead th {\n",
       "        text-align: right;\n",
       "    }\n",
       "</style>\n",
       "<table border=\"1\" class=\"dataframe\">\n",
       "  <thead>\n",
       "    <tr style=\"text-align: right;\">\n",
       "      <th></th>\n",
       "      <th>X</th>\n",
       "      <th>Y</th>\n",
       "    </tr>\n",
       "  </thead>\n",
       "  <tbody>\n",
       "    <tr>\n",
       "      <th>0</th>\n",
       "      <td>35.757619</td>\n",
       "      <td>67.590670</td>\n",
       "    </tr>\n",
       "    <tr>\n",
       "      <th>1</th>\n",
       "      <td>28.816847</td>\n",
       "      <td>60.854133</td>\n",
       "    </tr>\n",
       "    <tr>\n",
       "      <th>2</th>\n",
       "      <td>99.958481</td>\n",
       "      <td>196.907397</td>\n",
       "    </tr>\n",
       "    <tr>\n",
       "      <th>3</th>\n",
       "      <td>66.809748</td>\n",
       "      <td>125.311129</td>\n",
       "    </tr>\n",
       "    <tr>\n",
       "      <th>4</th>\n",
       "      <td>58.215693</td>\n",
       "      <td>115.785785</td>\n",
       "    </tr>\n",
       "    <tr>\n",
       "      <th>5</th>\n",
       "      <td>53.821076</td>\n",
       "      <td>110.762773</td>\n",
       "    </tr>\n",
       "    <tr>\n",
       "      <th>6</th>\n",
       "      <td>81.296082</td>\n",
       "      <td>157.985286</td>\n",
       "    </tr>\n",
       "    <tr>\n",
       "      <th>7</th>\n",
       "      <td>80.648697</td>\n",
       "      <td>159.619414</td>\n",
       "    </tr>\n",
       "    <tr>\n",
       "      <th>8</th>\n",
       "      <td>78.252814</td>\n",
       "      <td>149.003866</td>\n",
       "    </tr>\n",
       "    <tr>\n",
       "      <th>9</th>\n",
       "      <td>16.863484</td>\n",
       "      <td>31.467591</td>\n",
       "    </tr>\n",
       "    <tr>\n",
       "      <th>10</th>\n",
       "      <td>90.799148</td>\n",
       "      <td>184.185220</td>\n",
       "    </tr>\n",
       "    <tr>\n",
       "      <th>11</th>\n",
       "      <td>53.312737</td>\n",
       "      <td>103.220610</td>\n",
       "    </tr>\n",
       "    <tr>\n",
       "      <th>12</th>\n",
       "      <td>71.618789</td>\n",
       "      <td>143.271818</td>\n",
       "    </tr>\n",
       "    <tr>\n",
       "      <th>13</th>\n",
       "      <td>18.410592</td>\n",
       "      <td>46.736418</td>\n",
       "    </tr>\n",
       "    <tr>\n",
       "      <th>14</th>\n",
       "      <td>57.124347</td>\n",
       "      <td>107.123794</td>\n",
       "    </tr>\n",
       "    <tr>\n",
       "      <th>15</th>\n",
       "      <td>81.134684</td>\n",
       "      <td>168.309374</td>\n",
       "    </tr>\n",
       "    <tr>\n",
       "      <th>16</th>\n",
       "      <td>82.015255</td>\n",
       "      <td>166.829943</td>\n",
       "    </tr>\n",
       "    <tr>\n",
       "      <th>17</th>\n",
       "      <td>36.924908</td>\n",
       "      <td>70.501456</td>\n",
       "    </tr>\n",
       "    <tr>\n",
       "      <th>18</th>\n",
       "      <td>44.587126</td>\n",
       "      <td>96.869370</td>\n",
       "    </tr>\n",
       "    <tr>\n",
       "      <th>19</th>\n",
       "      <td>26.662354</td>\n",
       "      <td>50.373236</td>\n",
       "    </tr>\n",
       "    <tr>\n",
       "      <th>20</th>\n",
       "      <td>74.065057</td>\n",
       "      <td>145.519171</td>\n",
       "    </tr>\n",
       "    <tr>\n",
       "      <th>21</th>\n",
       "      <td>17.740577</td>\n",
       "      <td>46.551875</td>\n",
       "    </tr>\n",
       "    <tr>\n",
       "      <th>22</th>\n",
       "      <td>6.819744</td>\n",
       "      <td>13.243786</td>\n",
       "    </tr>\n",
       "    <tr>\n",
       "      <th>23</th>\n",
       "      <td>26.317360</td>\n",
       "      <td>62.500667</td>\n",
       "    </tr>\n",
       "    <tr>\n",
       "      <th>24</th>\n",
       "      <td>82.804119</td>\n",
       "      <td>159.916650</td>\n",
       "    </tr>\n",
       "    <tr>\n",
       "      <th>25</th>\n",
       "      <td>39.446537</td>\n",
       "      <td>77.984204</td>\n",
       "    </tr>\n",
       "    <tr>\n",
       "      <th>26</th>\n",
       "      <td>76.728121</td>\n",
       "      <td>147.269183</td>\n",
       "    </tr>\n",
       "    <tr>\n",
       "      <th>27</th>\n",
       "      <td>42.215856</td>\n",
       "      <td>83.645295</td>\n",
       "    </tr>\n",
       "    <tr>\n",
       "      <th>28</th>\n",
       "      <td>94.358576</td>\n",
       "      <td>191.956073</td>\n",
       "    </tr>\n",
       "    <tr>\n",
       "      <th>29</th>\n",
       "      <td>42.141785</td>\n",
       "      <td>91.732734</td>\n",
       "    </tr>\n",
       "    <tr>\n",
       "      <th>...</th>\n",
       "      <td>...</td>\n",
       "      <td>...</td>\n",
       "    </tr>\n",
       "    <tr>\n",
       "      <th>69</th>\n",
       "      <td>46.965491</td>\n",
       "      <td>100.605589</td>\n",
       "    </tr>\n",
       "    <tr>\n",
       "      <th>70</th>\n",
       "      <td>4.848541</td>\n",
       "      <td>13.857273</td>\n",
       "    </tr>\n",
       "    <tr>\n",
       "      <th>71</th>\n",
       "      <td>40.537332</td>\n",
       "      <td>82.590663</td>\n",
       "    </tr>\n",
       "    <tr>\n",
       "      <th>72</th>\n",
       "      <td>26.330461</td>\n",
       "      <td>50.231804</td>\n",
       "    </tr>\n",
       "    <tr>\n",
       "      <th>73</th>\n",
       "      <td>38.884726</td>\n",
       "      <td>79.481772</td>\n",
       "    </tr>\n",
       "    <tr>\n",
       "      <th>74</th>\n",
       "      <td>93.838267</td>\n",
       "      <td>191.324318</td>\n",
       "    </tr>\n",
       "    <tr>\n",
       "      <th>75</th>\n",
       "      <td>60.081660</td>\n",
       "      <td>120.495115</td>\n",
       "    </tr>\n",
       "    <tr>\n",
       "      <th>76</th>\n",
       "      <td>50.113965</td>\n",
       "      <td>111.352323</td>\n",
       "    </tr>\n",
       "    <tr>\n",
       "      <th>77</th>\n",
       "      <td>17.718685</td>\n",
       "      <td>44.937606</td>\n",
       "    </tr>\n",
       "    <tr>\n",
       "      <th>78</th>\n",
       "      <td>85.073031</td>\n",
       "      <td>172.133203</td>\n",
       "    </tr>\n",
       "    <tr>\n",
       "      <th>79</th>\n",
       "      <td>41.321510</td>\n",
       "      <td>84.889236</td>\n",
       "    </tr>\n",
       "    <tr>\n",
       "      <th>80</th>\n",
       "      <td>35.451547</td>\n",
       "      <td>69.918991</td>\n",
       "    </tr>\n",
       "    <tr>\n",
       "      <th>81</th>\n",
       "      <td>74.021026</td>\n",
       "      <td>149.778646</td>\n",
       "    </tr>\n",
       "    <tr>\n",
       "      <th>82</th>\n",
       "      <td>90.519721</td>\n",
       "      <td>187.593910</td>\n",
       "    </tr>\n",
       "    <tr>\n",
       "      <th>83</th>\n",
       "      <td>34.540597</td>\n",
       "      <td>66.326859</td>\n",
       "    </tr>\n",
       "    <tr>\n",
       "      <th>84</th>\n",
       "      <td>94.561662</td>\n",
       "      <td>189.144964</td>\n",
       "    </tr>\n",
       "    <tr>\n",
       "      <th>85</th>\n",
       "      <td>52.956268</td>\n",
       "      <td>103.446836</td>\n",
       "    </tr>\n",
       "    <tr>\n",
       "      <th>86</th>\n",
       "      <td>80.106436</td>\n",
       "      <td>158.529430</td>\n",
       "    </tr>\n",
       "    <tr>\n",
       "      <th>87</th>\n",
       "      <td>49.822758</td>\n",
       "      <td>98.698840</td>\n",
       "    </tr>\n",
       "    <tr>\n",
       "      <th>88</th>\n",
       "      <td>61.781725</td>\n",
       "      <td>122.647395</td>\n",
       "    </tr>\n",
       "    <tr>\n",
       "      <th>89</th>\n",
       "      <td>60.286108</td>\n",
       "      <td>124.763346</td>\n",
       "    </tr>\n",
       "    <tr>\n",
       "      <th>90</th>\n",
       "      <td>77.320690</td>\n",
       "      <td>155.677493</td>\n",
       "    </tr>\n",
       "    <tr>\n",
       "      <th>91</th>\n",
       "      <td>15.646359</td>\n",
       "      <td>35.410608</td>\n",
       "    </tr>\n",
       "    <tr>\n",
       "      <th>92</th>\n",
       "      <td>71.540618</td>\n",
       "      <td>151.323459</td>\n",
       "    </tr>\n",
       "    <tr>\n",
       "      <th>93</th>\n",
       "      <td>62.452398</td>\n",
       "      <td>129.433959</td>\n",
       "    </tr>\n",
       "    <tr>\n",
       "      <th>94</th>\n",
       "      <td>79.059832</td>\n",
       "      <td>163.096903</td>\n",
       "    </tr>\n",
       "    <tr>\n",
       "      <th>95</th>\n",
       "      <td>72.197693</td>\n",
       "      <td>142.898523</td>\n",
       "    </tr>\n",
       "    <tr>\n",
       "      <th>96</th>\n",
       "      <td>71.417753</td>\n",
       "      <td>148.094209</td>\n",
       "    </tr>\n",
       "    <tr>\n",
       "      <th>97</th>\n",
       "      <td>31.008820</td>\n",
       "      <td>63.796876</td>\n",
       "    </tr>\n",
       "    <tr>\n",
       "      <th>98</th>\n",
       "      <td>40.325282</td>\n",
       "      <td>86.723685</td>\n",
       "    </tr>\n",
       "  </tbody>\n",
       "</table>\n",
       "<p>99 rows × 2 columns</p>\n",
       "</div>"
      ],
      "text/plain": [
       "            X           Y\n",
       "0   35.757619   67.590670\n",
       "1   28.816847   60.854133\n",
       "2   99.958481  196.907397\n",
       "3   66.809748  125.311129\n",
       "4   58.215693  115.785785\n",
       "5   53.821076  110.762773\n",
       "6   81.296082  157.985286\n",
       "7   80.648697  159.619414\n",
       "8   78.252814  149.003866\n",
       "9   16.863484   31.467591\n",
       "10  90.799148  184.185220\n",
       "11  53.312737  103.220610\n",
       "12  71.618789  143.271818\n",
       "13  18.410592   46.736418\n",
       "14  57.124347  107.123794\n",
       "15  81.134684  168.309374\n",
       "16  82.015255  166.829943\n",
       "17  36.924908   70.501456\n",
       "18  44.587126   96.869370\n",
       "19  26.662354   50.373236\n",
       "20  74.065057  145.519171\n",
       "21  17.740577   46.551875\n",
       "22   6.819744   13.243786\n",
       "23  26.317360   62.500667\n",
       "24  82.804119  159.916650\n",
       "25  39.446537   77.984204\n",
       "26  76.728121  147.269183\n",
       "27  42.215856   83.645295\n",
       "28  94.358576  191.956073\n",
       "29  42.141785   91.732734\n",
       "..        ...         ...\n",
       "69  46.965491  100.605589\n",
       "70   4.848541   13.857273\n",
       "71  40.537332   82.590663\n",
       "72  26.330461   50.231804\n",
       "73  38.884726   79.481772\n",
       "74  93.838267  191.324318\n",
       "75  60.081660  120.495115\n",
       "76  50.113965  111.352323\n",
       "77  17.718685   44.937606\n",
       "78  85.073031  172.133203\n",
       "79  41.321510   84.889236\n",
       "80  35.451547   69.918991\n",
       "81  74.021026  149.778646\n",
       "82  90.519721  187.593910\n",
       "83  34.540597   66.326859\n",
       "84  94.561662  189.144964\n",
       "85  52.956268  103.446836\n",
       "86  80.106436  158.529430\n",
       "87  49.822758   98.698840\n",
       "88  61.781725  122.647395\n",
       "89  60.286108  124.763346\n",
       "90  77.320690  155.677493\n",
       "91  15.646359   35.410608\n",
       "92  71.540618  151.323459\n",
       "93  62.452398  129.433959\n",
       "94  79.059832  163.096903\n",
       "95  72.197693  142.898523\n",
       "96  71.417753  148.094209\n",
       "97  31.008820   63.796876\n",
       "98  40.325282   86.723685\n",
       "\n",
       "[99 rows x 2 columns]"
      ]
     },
     "execution_count": 17,
     "metadata": {},
     "output_type": "execute_result"
    }
   ],
   "source": [
    "df=pd.read_csv('data_1d.csv')\n",
    "df.columns=['X','Y']\n",
    "df"
   ]
  },
  {
   "cell_type": "code",
   "execution_count": 53,
   "metadata": {},
   "outputs": [],
   "source": [
    "for lines in open('data_1d.csv'):\n",
    "    x,y=lines.split(',')\n",
    "    X.append(float(x))\n",
    "    Y.append(float(y))"
   ]
  },
  {
   "cell_type": "code",
   "execution_count": 54,
   "metadata": {},
   "outputs": [
    {
     "data": {
      "text/plain": [
       "[197.179636092,\n",
       " 67.5906695414,\n",
       " 60.8541328206,\n",
       " 196.907396981,\n",
       " 125.311128524,\n",
       " 115.785784589,\n",
       " 110.762772705,\n",
       " 157.98528569,\n",
       " 159.61941373,\n",
       " 149.003865539,\n",
       " 31.4675908827,\n",
       " 184.185219661,\n",
       " 103.220610158,\n",
       " 143.271818357,\n",
       " 46.7364180117,\n",
       " 107.123794204,\n",
       " 168.309374007,\n",
       " 166.82994267,\n",
       " 70.5014555898,\n",
       " 96.8693702549,\n",
       " 50.3732358383,\n",
       " 145.519170708,\n",
       " 46.5518746077,\n",
       " 13.2437863094,\n",
       " 62.5006665037,\n",
       " 159.916649576,\n",
       " 77.9842041485,\n",
       " 147.269183138,\n",
       " 83.6452954011,\n",
       " 191.956072692,\n",
       " 91.7327341584,\n",
       " 8.2514167727,\n",
       " 16.0963894188,\n",
       " 33.3544421438,\n",
       " 131.505745533,\n",
       " 128.698843062,\n",
       " 160.310380503,\n",
       " 160.603245737,\n",
       " 104.400293158,\n",
       " 126.969456046,\n",
       " 124.519167614,\n",
       " 125.217414427,\n",
       " 98.7194843794,\n",
       " 166.432455477,\n",
       " 179.236872614,\n",
       " 33.7772337402,\n",
       " 161.372965132,\n",
       " 138.575401004,\n",
       " 17.9033282786,\n",
       " 74.1085917146,\n",
       " 74.8213229656,\n",
       " 179.241547046,\n",
       " 6.43437237688,\n",
       " 78.086356791,\n",
       " 154.591789763,\n",
       " 50.0307538993,\n",
       " 165.441966192,\n",
       " 110.897287971,\n",
       " 114.691885107,\n",
       " 186.744206306,\n",
       " 70.6972229828,\n",
       " 19.1790300473,\n",
       " 27.022959917,\n",
       " 87.2924492169,\n",
       " 167.924614121,\n",
       " 96.0205484441,\n",
       " 24.9463246457,\n",
       " 54.0041458755,\n",
       " 133.165254434,\n",
       " 28.0062232213,\n",
       " 100.605589468,\n",
       " 13.8572726025,\n",
       " 82.5906629412,\n",
       " 50.2318039097,\n",
       " 79.4817724245,\n",
       " 191.324317836,\n",
       " 120.495115436,\n",
       " 111.352322885,\n",
       " 44.9376064869,\n",
       " 172.133203076,\n",
       " 84.889236,\n",
       " 69.9189912445,\n",
       " 149.778646331,\n",
       " 187.593909745,\n",
       " 66.326858951,\n",
       " 189.144964109,\n",
       " 103.44683588,\n",
       " 158.529430067,\n",
       " 98.6988396336,\n",
       " 122.647395062,\n",
       " 124.763346322,\n",
       " 155.67749312,\n",
       " 35.4106082545,\n",
       " 151.323458712,\n",
       " 129.43395879,\n",
       " 163.096902614,\n",
       " 142.898522638,\n",
       " 148.09420854,\n",
       " 63.7968762483,\n",
       " 86.7236853299]"
      ]
     },
     "execution_count": 54,
     "metadata": {},
     "output_type": "execute_result"
    }
   ],
   "source": [
    "Y"
   ]
  },
  {
   "cell_type": "code",
   "execution_count": 55,
   "metadata": {},
   "outputs": [],
   "source": [
    "X=np.array(X)\n",
    "Y=np.array(Y)"
   ]
  },
  {
   "cell_type": "code",
   "execution_count": 56,
   "metadata": {},
   "outputs": [
    {
     "data": {
      "text/plain": [
       "array([197.17963609,  67.59066954,  60.85413282, 196.90739698,\n",
       "       125.31112852, 115.78578459, 110.76277271, 157.98528569,\n",
       "       159.61941373, 149.00386554,  31.46759088, 184.18521966,\n",
       "       103.22061016, 143.27181836,  46.73641801, 107.1237942 ,\n",
       "       168.30937401, 166.82994267,  70.50145559,  96.86937025,\n",
       "        50.37323584, 145.51917071,  46.55187461,  13.24378631,\n",
       "        62.5006665 , 159.91664958,  77.98420415, 147.26918314,\n",
       "        83.6452954 , 191.95607269,  91.73273416,   8.25141677,\n",
       "        16.09638942,  33.35444214, 131.50574553, 128.69884306,\n",
       "       160.3103805 , 160.60324574, 104.40029316, 126.96945605,\n",
       "       124.51916761, 125.21741443,  98.71948438, 166.43245548,\n",
       "       179.23687261,  33.77723374, 161.37296513, 138.575401  ,\n",
       "        17.90332828,  74.10859171,  74.82132297, 179.24154705,\n",
       "         6.43437238,  78.08635679, 154.59178976,  50.0307539 ,\n",
       "       165.44196619, 110.89728797, 114.69188511, 186.74420631,\n",
       "        70.69722298,  19.17903005,  27.02295992,  87.29244922,\n",
       "       167.92461412,  96.02054844,  24.94632465,  54.00414588,\n",
       "       133.16525443,  28.00622322, 100.60558947,  13.8572726 ,\n",
       "        82.59066294,  50.23180391,  79.48177242, 191.32431784,\n",
       "       120.49511544, 111.35232289,  44.93760649, 172.13320308,\n",
       "        84.889236  ,  69.91899124, 149.77864633, 187.59390974,\n",
       "        66.32685895, 189.14496411, 103.44683588, 158.52943007,\n",
       "        98.69883963, 122.64739506, 124.76334632, 155.67749312,\n",
       "        35.41060825, 151.32345871, 129.43395879, 163.09690261,\n",
       "       142.89852264, 148.09420854,  63.79687625,  86.72368533])"
      ]
     },
     "execution_count": 56,
     "metadata": {},
     "output_type": "execute_result"
    }
   ],
   "source": [
    "Y"
   ]
  },
  {
   "cell_type": "code",
   "execution_count": 22,
   "metadata": {},
   "outputs": [
    {
     "data": {
      "text/plain": [
       "<matplotlib.collections.PathCollection at 0x237fcec6588>"
      ]
     },
     "execution_count": 22,
     "metadata": {},
     "output_type": "execute_result"
    },
    {
     "data": {
      "image/png": "[encoded data removed]",
      "text/plain": [
       "<Figure size 432x288 with 1 Axes>"
      ]
     },
     "metadata": {},
     "output_type": "display_data"
    }
   ],
   "source": [
    "plt.scatter(X,Y)\n",
    "#plt.show() for python"
   ]
  },
  {
   "cell_type": "code",
   "execution_count": 23,
   "metadata": {},
   "outputs": [
    {
     "data": {
      "text/plain": [
       "<matplotlib.collections.PathCollection at 0x237fdefde48>"
      ]
     },
     "execution_count": 23,
     "metadata": {},
     "output_type": "execute_result"
    },
    {
     "data": {
      "image/png": "[encoded data removed]",
      "text/plain": [
       "<Figure size 432x288 with 1 Axes>"
      ]
     },
     "metadata": {},
     "output_type": "display_data"
    }
   ],
   "source": [
    "plt.scatter(df['X'],df['Y'])"
   ]
  },
  {
   "cell_type": "code",
   "execution_count": 25,
   "metadata": {},
   "outputs": [],
   "source": [
    "denominator=X.dot(X)-X.sum()*X.mean()   #N is divided to get means\n",
    "a_nominator=X.dot(Y)-X.mean()*Y.sum()\n",
    "b_nominator=Y.mean()*((X**2).sum())-X.mean()*X.dot(Y)     # or Y.mean()*X.dot(X)-X.mean()*X.dot(Y) \n",
    "a=a_nominator/denominator\n",
    "b=b_nominator/denominator"
   ]
  },
  {
   "cell_type": "code",
   "execution_count": 26,
   "metadata": {},
   "outputs": [
    {
     "data": {
      "text/plain": [
       "1.9726121674845962"
      ]
     },
     "execution_count": 26,
     "metadata": {},
     "output_type": "execute_result"
    }
   ],
   "source": [
    "a"
   ]
  },
  {
   "cell_type": "code",
   "execution_count": 27,
   "metadata": {},
   "outputs": [
    {
     "data": {
      "text/plain": [
       "2.8644240756600343"
      ]
     },
     "execution_count": 27,
     "metadata": {},
     "output_type": "execute_result"
    }
   ],
   "source": [
    "b"
   ]
  },
  {
   "cell_type": "code",
   "execution_count": 45,
   "metadata": {},
   "outputs": [
    {
     "data": {
      "text/plain": [
       "array([  0.        ,  11.11111111,  22.22222222,  33.33333333,\n",
       "        44.44444444,  55.55555556,  66.66666667,  77.77777778,\n",
       "        88.88888889, 100.        ])"
      ]
     },
     "execution_count": 45,
     "metadata": {},
     "output_type": "execute_result"
    }
   ],
   "source": [
    "x_new=np.linspace(0,100,10)\n",
    "#d=np.linspace(0,2,9) \n",
    "x_new"
   ]
  },
  {
   "cell_type": "code",
   "execution_count": 46,
   "metadata": {},
   "outputs": [
    {
     "data": {
      "text/plain": [
       "array([  0.        ,  11.11111111,  22.22222222,  33.33333333,\n",
       "        44.44444444,  55.55555556,  66.66666667,  77.77777778,\n",
       "        88.88888889, 100.        ])"
      ]
     },
     "execution_count": 46,
     "metadata": {},
     "output_type": "execute_result"
    }
   ],
   "source": [
    "x_new"
   ]
  },
  {
   "cell_type": "code",
   "execution_count": 61,
   "metadata": {},
   "outputs": [],
   "source": [
    "#y_new=a*x_new+b   #or y_new=a*X+b\n",
    "y_new=a*X+b"
   ]
  },
  {
   "cell_type": "code",
   "execution_count": 62,
   "metadata": {},
   "outputs": [
    {
     "data": {
      "text/plain": [
       "array([191.69107156,  73.40033825,  59.70888793, 200.04374055,\n",
       "       134.6541465 , 117.70140772, 109.03253413, 163.23006493,\n",
       "       161.95302519, 157.22687651,  36.12953718, 181.97592734,\n",
       "       108.02977779, 144.14051872,  39.18138143, 115.54860556,\n",
       "       162.91168877, 164.64871484,  75.70294737,  90.81753142,\n",
       "        55.45890889, 148.96605693,  37.85970159,  16.31713371,\n",
       "        54.77836881, 166.20483683,  80.67714285, 154.21924834,\n",
       "        86.13993556, 188.99729889,  85.99382217,   9.19897215,\n",
       "        16.44718721,  30.23594106, 127.72565267, 122.19270381,\n",
       "       159.89872354, 167.46778996, 111.14518947, 125.25700848,\n",
       "       134.346438  , 123.82463362,  96.20755007, 162.94384962,\n",
       "       182.41456945,  36.09004217, 153.78195174, 144.62758755,\n",
       "        22.29088522,  73.46364625,  73.65889458, 182.03569977,\n",
       "        17.18967731,  72.61458615, 158.85712223,  45.38103823,\n",
       "       159.64059254,  99.06470845, 110.95146298, 175.47494321,\n",
       "        79.69595275,  21.39832425,  24.80221251,  93.87198766,\n",
       "       171.91250045, 101.71260448,  24.7084738 ,  46.71190545,\n",
       "       136.12217728,  28.0885821 ,  95.50912276,  12.42871435,\n",
       "        82.82885829,  54.80421236,  79.56890841, 187.97093041,\n",
       "       121.38223758, 101.71984163,  37.81651826, 170.68052043,\n",
       "        84.37573694,  72.79657722, 148.87919971, 181.42472732,\n",
       "        70.99962607, 189.39790936, 107.32660238, 160.88335524,\n",
       "       101.1454019 , 124.73580715, 121.78553496, 155.38815834,\n",
       "        33.72862173, 143.98631828, 126.05878448, 158.81881137,\n",
       "       145.28247263, 143.74395344,  64.03279987,  82.41056643])"
      ]
     },
     "execution_count": 62,
     "metadata": {},
     "output_type": "execute_result"
    }
   ],
   "source": [
    "y_new"
   ]
  },
  {
   "cell_type": "code",
   "execution_count": 64,
   "metadata": {},
   "outputs": [
    {
     "data": {
      "text/plain": [
       "[<matplotlib.lines.Line2D at 0x237fe3f7780>]"
      ]
     },
     "execution_count": 64,
     "metadata": {},
     "output_type": "execute_result"
    },
    {
     "data": {
      "image/png": "[encoded data removed]",
      "text/plain": [
       "<Figure size 432x288 with 1 Axes>"
      ]
     },
     "metadata": {},
     "output_type": "display_data"
    }
   ],
   "source": [
    "plt.scatter(X,Y)\n",
    "plt.plot(X,y_new,'r-')"
   ]
  },
  {
   "cell_type": "code",
   "execution_count": 65,
   "metadata": {},
   "outputs": [],
   "source": [
    "R_squared=1-(((Y-y_new).dot(Y-y_new))/((Y-Y.mean()).dot(Y-Y.mean())))"
   ]
  },
  {
   "cell_type": "code",
   "execution_count": 66,
   "metadata": {},
   "outputs": [
    {
     "data": {
      "text/plain": [
       "0.9911838202977805"
      ]
     },
     "execution_count": 66,
     "metadata": {},
     "output_type": "execute_result"
    }
   ],
   "source": [
    "R_squared"
   ]
  },
  {
   "cell_type": "code",
   "execution_count": null,
   "metadata": {},
   "outputs": [],
   "source": []
  }
 ],
 "metadata": {
  "kernelspec": {
   "display_name": "Python 3",
   "language": "python",
   "name": "python3"
  },
  "language_info": {
   "codemirror_mode": {
    "name": "ipython",
    "version": 3
   },
   "file_extension": ".py",
   "mimetype": "text/x-python",
   "name": "python",
   "nbconvert_exporter": "python",
   "pygments_lexer": "ipython3",
   "version": "3.6.4"
  }
 },
 "nbformat": 4,
 "nbformat_minor": 2
}
