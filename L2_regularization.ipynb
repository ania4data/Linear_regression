{
 "cells": [
  {
   "cell_type": "code",
   "execution_count": 99,
   "metadata": {},
   "outputs": [],
   "source": [
    "import numpy as np\n",
    "import matplotlib.pyplot as plt"
   ]
  },
  {
   "cell_type": "code",
   "execution_count": 100,
   "metadata": {},
   "outputs": [],
   "source": [
    "N=50\n",
    "X=np.linspace(0,10,N)\n",
    "Y=0.5*X+np.random.randn(N)   # a vector of random variable of 50 randn(50) added to X, \n",
    "                             #every individual X has a differnt random added other wise useing randn() \n",
    "                             #add a fix random to all X variables"
   ]
  },
  {
   "cell_type": "code",
   "execution_count": 101,
   "metadata": {},
   "outputs": [
    {
     "data": {
      "text/plain": [
       "array([ 0.        ,  0.20408163,  0.40816327,  0.6122449 ,  0.81632653,\n",
       "        1.02040816,  1.2244898 ,  1.42857143,  1.63265306,  1.83673469,\n",
       "        2.04081633,  2.24489796,  2.44897959,  2.65306122,  2.85714286,\n",
       "        3.06122449,  3.26530612,  3.46938776,  3.67346939,  3.87755102,\n",
       "        4.08163265,  4.28571429,  4.48979592,  4.69387755,  4.89795918,\n",
       "        5.10204082,  5.30612245,  5.51020408,  5.71428571,  5.91836735,\n",
       "        6.12244898,  6.32653061,  6.53061224,  6.73469388,  6.93877551,\n",
       "        7.14285714,  7.34693878,  7.55102041,  7.75510204,  7.95918367,\n",
       "        8.16326531,  8.36734694,  8.57142857,  8.7755102 ,  8.97959184,\n",
       "        9.18367347,  9.3877551 ,  9.59183673,  9.79591837, 10.        ])"
      ]
     },
     "execution_count": 101,
     "metadata": {},
     "output_type": "execute_result"
    }
   ],
   "source": [
    "X"
   ]
  },
  {
   "cell_type": "code",
   "execution_count": 102,
   "metadata": {},
   "outputs": [
    {
     "data": {
      "text/plain": [
       "array([-1.29929755, -0.16629219, -0.54209021,  0.5653966 , -0.67775921,\n",
       "       -1.33992213,  0.89553795,  1.52581839,  0.91910256, -1.32952486,\n",
       "       -0.19677921, -1.15588681,  0.91902263,  1.20618596,  1.02598615,\n",
       "        2.67356659,  1.97480716,  3.15453329,  1.4156081 ,  1.78523955,\n",
       "        1.10545774,  3.31222204,  3.43497332,  1.58253881,  1.06018038,\n",
       "        3.10435481,  2.32029782,  3.44414539,  4.73381467,  3.38503969,\n",
       "        2.13872191,  3.116767  ,  3.22645326,  2.24839225,  2.84430316,\n",
       "        2.80634466,  2.77675961,  3.85558702,  2.26009735,  3.0162843 ,\n",
       "        4.40555476,  3.1383852 ,  4.21176125,  4.45868404,  3.94115291,\n",
       "        5.72845923,  4.34482907,  4.11511977,  5.97697886,  5.05727969])"
      ]
     },
     "execution_count": 102,
     "metadata": {},
     "output_type": "execute_result"
    }
   ],
   "source": [
    "Y"
   ]
  },
  {
   "cell_type": "code",
   "execution_count": 103,
   "metadata": {},
   "outputs": [],
   "source": [
    "Y[-1] +=30\n",
    "Y[-2] +=30"
   ]
  },
  {
   "cell_type": "code",
   "execution_count": 104,
   "metadata": {},
   "outputs": [
    {
     "data": {
      "text/plain": [
       "array([-1.29929755, -0.16629219, -0.54209021,  0.5653966 , -0.67775921,\n",
       "       -1.33992213,  0.89553795,  1.52581839,  0.91910256, -1.32952486,\n",
       "       -0.19677921, -1.15588681,  0.91902263,  1.20618596,  1.02598615,\n",
       "        2.67356659,  1.97480716,  3.15453329,  1.4156081 ,  1.78523955,\n",
       "        1.10545774,  3.31222204,  3.43497332,  1.58253881,  1.06018038,\n",
       "        3.10435481,  2.32029782,  3.44414539,  4.73381467,  3.38503969,\n",
       "        2.13872191,  3.116767  ,  3.22645326,  2.24839225,  2.84430316,\n",
       "        2.80634466,  2.77675961,  3.85558702,  2.26009735,  3.0162843 ,\n",
       "        4.40555476,  3.1383852 ,  4.21176125,  4.45868404,  3.94115291,\n",
       "        5.72845923,  4.34482907,  4.11511977, 35.97697886, 35.05727969])"
      ]
     },
     "execution_count": 104,
     "metadata": {},
     "output_type": "execute_result"
    }
   ],
   "source": [
    "Y"
   ]
  },
  {
   "cell_type": "code",
   "execution_count": 105,
   "metadata": {},
   "outputs": [
    {
     "data": {
      "text/plain": [
       "<matplotlib.collections.PathCollection at 0x1773d4abf60>"
      ]
     },
     "execution_count": 105,
     "metadata": {},
     "output_type": "execute_result"
    },
    {
     "data": {
      "image/png": "[encoded data removed]",
      "text/plain": [
       "<Figure size 432x288 with 1 Axes>"
      ]
     },
     "metadata": {},
     "output_type": "display_data"
    }
   ],
   "source": [
    "plt.scatter(X,Y)"
   ]
  },
  {
   "cell_type": "code",
   "execution_count": 106,
   "metadata": {},
   "outputs": [],
   "source": [
    "X=np.vstack([np.ones(N),X])  #vstack like addign extra row"
   ]
  },
  {
   "cell_type": "code",
   "execution_count": 107,
   "metadata": {},
   "outputs": [
    {
     "data": {
      "text/plain": [
       "array([[ 1.        ,  1.        ,  1.        ,  1.        ,  1.        ,\n",
       "         1.        ,  1.        ,  1.        ,  1.        ,  1.        ,\n",
       "         1.        ,  1.        ,  1.        ,  1.        ,  1.        ,\n",
       "         1.        ,  1.        ,  1.        ,  1.        ,  1.        ,\n",
       "         1.        ,  1.        ,  1.        ,  1.        ,  1.        ,\n",
       "         1.        ,  1.        ,  1.        ,  1.        ,  1.        ,\n",
       "         1.        ,  1.        ,  1.        ,  1.        ,  1.        ,\n",
       "         1.        ,  1.        ,  1.        ,  1.        ,  1.        ,\n",
       "         1.        ,  1.        ,  1.        ,  1.        ,  1.        ,\n",
       "         1.        ,  1.        ,  1.        ,  1.        ,  1.        ],\n",
       "       [ 0.        ,  0.20408163,  0.40816327,  0.6122449 ,  0.81632653,\n",
       "         1.02040816,  1.2244898 ,  1.42857143,  1.63265306,  1.83673469,\n",
       "         2.04081633,  2.24489796,  2.44897959,  2.65306122,  2.85714286,\n",
       "         3.06122449,  3.26530612,  3.46938776,  3.67346939,  3.87755102,\n",
       "         4.08163265,  4.28571429,  4.48979592,  4.69387755,  4.89795918,\n",
       "         5.10204082,  5.30612245,  5.51020408,  5.71428571,  5.91836735,\n",
       "         6.12244898,  6.32653061,  6.53061224,  6.73469388,  6.93877551,\n",
       "         7.14285714,  7.34693878,  7.55102041,  7.75510204,  7.95918367,\n",
       "         8.16326531,  8.36734694,  8.57142857,  8.7755102 ,  8.97959184,\n",
       "         9.18367347,  9.3877551 ,  9.59183673,  9.79591837, 10.        ]])"
      ]
     },
     "execution_count": 107,
     "metadata": {},
     "output_type": "execute_result"
    }
   ],
   "source": [
    "X"
   ]
  },
  {
   "cell_type": "code",
   "execution_count": 108,
   "metadata": {},
   "outputs": [],
   "source": [
    "X=X.T"
   ]
  },
  {
   "cell_type": "code",
   "execution_count": 109,
   "metadata": {},
   "outputs": [
    {
     "data": {
      "text/plain": [
       "array([[ 1.        ,  0.        ],\n",
       "       [ 1.        ,  0.20408163],\n",
       "       [ 1.        ,  0.40816327],\n",
       "       [ 1.        ,  0.6122449 ],\n",
       "       [ 1.        ,  0.81632653],\n",
       "       [ 1.        ,  1.02040816],\n",
       "       [ 1.        ,  1.2244898 ],\n",
       "       [ 1.        ,  1.42857143],\n",
       "       [ 1.        ,  1.63265306],\n",
       "       [ 1.        ,  1.83673469],\n",
       "       [ 1.        ,  2.04081633],\n",
       "       [ 1.        ,  2.24489796],\n",
       "       [ 1.        ,  2.44897959],\n",
       "       [ 1.        ,  2.65306122],\n",
       "       [ 1.        ,  2.85714286],\n",
       "       [ 1.        ,  3.06122449],\n",
       "       [ 1.        ,  3.26530612],\n",
       "       [ 1.        ,  3.46938776],\n",
       "       [ 1.        ,  3.67346939],\n",
       "       [ 1.        ,  3.87755102],\n",
       "       [ 1.        ,  4.08163265],\n",
       "       [ 1.        ,  4.28571429],\n",
       "       [ 1.        ,  4.48979592],\n",
       "       [ 1.        ,  4.69387755],\n",
       "       [ 1.        ,  4.89795918],\n",
       "       [ 1.        ,  5.10204082],\n",
       "       [ 1.        ,  5.30612245],\n",
       "       [ 1.        ,  5.51020408],\n",
       "       [ 1.        ,  5.71428571],\n",
       "       [ 1.        ,  5.91836735],\n",
       "       [ 1.        ,  6.12244898],\n",
       "       [ 1.        ,  6.32653061],\n",
       "       [ 1.        ,  6.53061224],\n",
       "       [ 1.        ,  6.73469388],\n",
       "       [ 1.        ,  6.93877551],\n",
       "       [ 1.        ,  7.14285714],\n",
       "       [ 1.        ,  7.34693878],\n",
       "       [ 1.        ,  7.55102041],\n",
       "       [ 1.        ,  7.75510204],\n",
       "       [ 1.        ,  7.95918367],\n",
       "       [ 1.        ,  8.16326531],\n",
       "       [ 1.        ,  8.36734694],\n",
       "       [ 1.        ,  8.57142857],\n",
       "       [ 1.        ,  8.7755102 ],\n",
       "       [ 1.        ,  8.97959184],\n",
       "       [ 1.        ,  9.18367347],\n",
       "       [ 1.        ,  9.3877551 ],\n",
       "       [ 1.        ,  9.59183673],\n",
       "       [ 1.        ,  9.79591837],\n",
       "       [ 1.        , 10.        ]])"
      ]
     },
     "execution_count": 109,
     "metadata": {},
     "output_type": "execute_result"
    }
   ],
   "source": [
    "X"
   ]
  },
  {
   "cell_type": "code",
   "execution_count": 110,
   "metadata": {},
   "outputs": [
    {
     "data": {
      "text/plain": [
       "2"
      ]
     },
     "execution_count": 110,
     "metadata": {},
     "output_type": "execute_result"
    }
   ],
   "source": [
    "np.shape(X)[1]"
   ]
  },
  {
   "cell_type": "code",
   "execution_count": 124,
   "metadata": {},
   "outputs": [],
   "source": [
    "\n",
    "def solve_linreg(X,Y,L2,lambda_):\n",
    "    dim=np.shape(X)[1]\n",
    "    if (L2==False):  \n",
    "        w=np.linalg.solve(np.dot(X.T,X),np.dot(X.T,Y))\n",
    "        return w\n",
    "    elif (L2==True):\n",
    "        w=np.linalg.solve(((np.eye(dim)*lambda_)+(np.dot(X.T,X))),np.dot(X.T,Y))\n",
    "        return w\n",
    "        \n",
    "        \n",
    "def y_new_cal(X,w):\n",
    "    y_new=np.dot(X,(w.T))\n",
    "    return y_new\n",
    "    \n",
    "    "
   ]
  },
  {
   "cell_type": "code",
   "execution_count": 125,
   "metadata": {},
   "outputs": [],
   "source": [
    "#L2=False\n",
    "#lambda_=0\n",
    "w=solve_linreg(X,Y,L2=False,lambda_=0)\n",
    "y_new=y_new_cal(X,w)"
   ]
  },
  {
   "cell_type": "code",
   "execution_count": 126,
   "metadata": {},
   "outputs": [
    {
     "data": {
      "text/plain": [
       "array([-2.66740345, -2.41771009, -2.16801673, -1.91832337, -1.66863001,\n",
       "       -1.41893665, -1.16924329, -0.91954993, -0.66985657, -0.42016322,\n",
       "       -0.17046986,  0.0792235 ,  0.32891686,  0.57861022,  0.82830358,\n",
       "        1.07799694,  1.3276903 ,  1.57738366,  1.82707702,  2.07677038,\n",
       "        2.32646374,  2.5761571 ,  2.82585046,  3.07554382,  3.32523718,\n",
       "        3.57493053,  3.82462389,  4.07431725,  4.32401061,  4.57370397,\n",
       "        4.82339733,  5.07309069,  5.32278405,  5.57247741,  5.82217077,\n",
       "        6.07186413,  6.32155749,  6.57125085,  6.82094421,  7.07063757,\n",
       "        7.32033093,  7.57002428,  7.81971764,  8.069411  ,  8.31910436,\n",
       "        8.56879772,  8.81849108,  9.06818444,  9.3178778 ,  9.56757116])"
      ]
     },
     "execution_count": 126,
     "metadata": {},
     "output_type": "execute_result"
    }
   ],
   "source": [
    "y_new"
   ]
  },
  {
   "cell_type": "code",
   "execution_count": 127,
   "metadata": {},
   "outputs": [
    {
     "data": {
      "text/plain": [
       "array([-2.66740345,  1.22349746])"
      ]
     },
     "execution_count": 127,
     "metadata": {},
     "output_type": "execute_result"
    }
   ],
   "source": [
    "w"
   ]
  },
  {
   "cell_type": "code",
   "execution_count": 128,
   "metadata": {},
   "outputs": [
    {
     "data": {
      "text/plain": [
       "array([ 0.        ,  0.20408163,  0.40816327,  0.6122449 ,  0.81632653,\n",
       "        1.02040816,  1.2244898 ,  1.42857143,  1.63265306,  1.83673469,\n",
       "        2.04081633,  2.24489796,  2.44897959,  2.65306122,  2.85714286,\n",
       "        3.06122449,  3.26530612,  3.46938776,  3.67346939,  3.87755102,\n",
       "        4.08163265,  4.28571429,  4.48979592,  4.69387755,  4.89795918,\n",
       "        5.10204082,  5.30612245,  5.51020408,  5.71428571,  5.91836735,\n",
       "        6.12244898,  6.32653061,  6.53061224,  6.73469388,  6.93877551,\n",
       "        7.14285714,  7.34693878,  7.55102041,  7.75510204,  7.95918367,\n",
       "        8.16326531,  8.36734694,  8.57142857,  8.7755102 ,  8.97959184,\n",
       "        9.18367347,  9.3877551 ,  9.59183673,  9.79591837, 10.        ])"
      ]
     },
     "execution_count": 128,
     "metadata": {},
     "output_type": "execute_result"
    }
   ],
   "source": [
    "X[:,1]"
   ]
  },
  {
   "cell_type": "code",
   "execution_count": 129,
   "metadata": {},
   "outputs": [
    {
     "data": {
      "text/plain": [
       "[<matplotlib.lines.Line2D at 0x1773e787470>]"
      ]
     },
     "execution_count": 129,
     "metadata": {},
     "output_type": "execute_result"
    },
    {
     "data": {
      "image/png": "[encoded data removed]",
      "text/plain": [
       "<Figure size 432x288 with 1 Axes>"
      ]
     },
     "metadata": {},
     "output_type": "display_data"
    }
   ],
   "source": [
    "plt.scatter(X[:,1],Y)\n",
    "plt.plot(X[:,1],y_new)"
   ]
  },
  {
   "cell_type": "code",
   "execution_count": 132,
   "metadata": {},
   "outputs": [],
   "source": [
    "w=solve_linreg(X,Y,L2=True,lambda_=1000)\n",
    "y_new_L2=y_new_cal(X,w)"
   ]
  },
  {
   "cell_type": "code",
   "execution_count": 133,
   "metadata": {},
   "outputs": [
    {
     "data": {
      "text/plain": [
       "[<matplotlib.lines.Line2D at 0x1773e86aef0>]"
      ]
     },
     "execution_count": 133,
     "metadata": {},
     "output_type": "execute_result"
    },
    {
     "data": {
      "image/png": "[encoded data removed]",
      "text/plain": [
       "<Figure size 432x288 with 1 Axes>"
      ]
     },
     "metadata": {},
     "output_type": "display_data"
    }
   ],
   "source": [
    "plt.scatter(X[:,1],Y)\n",
    "plt.plot(X[:,1],y_new)\n",
    "plt.plot(X[:,1],y_new_L2)"
   ]
  },
  {
   "cell_type": "code",
   "execution_count": 144,
   "metadata": {},
   "outputs": [
    {
     "data": {
      "text/plain": [
       "<matplotlib.legend.Legend at 0x1773ed6fdd8>"
      ]
     },
     "execution_count": 144,
     "metadata": {},
     "output_type": "execute_result"
    },
    {
     "data": {
      "image/png": "[encoded data removed]",
      "text/plain": [
       "<Figure size 432x288 with 1 Axes>"
      ]
     },
     "metadata": {},
     "output_type": "display_data"
    }
   ],
   "source": [
    "plt.scatter(X[:,1],Y)\n",
    "plt.plot(X[:,1],y_new_cal(X,solve_linreg(X,Y,L2=False,lambda_=0)),label='lambda=0')\n",
    "plt.plot(X[:,1],y_new_cal(X,solve_linreg(X,Y,L2=True,lambda_=10)),label='lambda=10')\n",
    "plt.plot(X[:,1],y_new_cal(X,solve_linreg(X,Y,L2=True,lambda_=100)),label='lambda=100')\n",
    "plt.plot(X[:,1],y_new_cal(X,solve_linreg(X,Y,L2=True,lambda_=1000)),label='lambda=1000')\n",
    "plt.plot(X[:,1],y_new_cal(X,solve_linreg(X,Y,L2=True,lambda_=1000)),label='lambda=10000')\n",
    "plt.legend()\n"
   ]
  },
  {
   "cell_type": "code",
   "execution_count": 145,
   "metadata": {},
   "outputs": [
    {
     "data": {
      "text/plain": [
       "(0, 10)"
      ]
     },
     "execution_count": 145,
     "metadata": {},
     "output_type": "execute_result"
    },
    {
     "data": {
      "image/png": "[encoded data removed]",
      "text/plain": [
       "<Figure size 432x288 with 1 Axes>"
      ]
     },
     "metadata": {},
     "output_type": "display_data"
    }
   ],
   "source": [
    "plt.scatter(X[:,1],Y)\n",
    "plt.plot(X[:,1],y_new_cal(X,solve_linreg(X,Y,L2=False,lambda_=0)),label='lambda=0')\n",
    "plt.plot(X[:,1],y_new_cal(X,solve_linreg(X,Y,L2=True,lambda_=10)),label='lambda=10')\n",
    "plt.plot(X[:,1],y_new_cal(X,solve_linreg(X,Y,L2=True,lambda_=100)),label='lambda=100')\n",
    "plt.plot(X[:,1],y_new_cal(X,solve_linreg(X,Y,L2=True,lambda_=1000)),label='lambda=1000')\n",
    "plt.plot(X[:,1],y_new_cal(X,solve_linreg(X,Y,L2=True,lambda_=1000)),label='lambda=10000')\n",
    "plt.legend()\n",
    "plt.ylim(0,10)   #saturate at high lambda"
   ]
  },
  {
   "cell_type": "code",
   "execution_count": null,
   "metadata": {},
   "outputs": [],
   "source": []
  }
 ],
 "metadata": {
  "kernelspec": {
   "display_name": "Python 3",
   "language": "python",
   "name": "python3"
  },
  "language_info": {
   "codemirror_mode": {
    "name": "ipython",
    "version": 3
   },
   "file_extension": ".py",
   "mimetype": "text/x-python",
   "name": "python",
   "nbconvert_exporter": "python",
   "pygments_lexer": "ipython3",
   "version": "3.6.4"
  }
 },
 "nbformat": 4,
 "nbformat_minor": 2
}
