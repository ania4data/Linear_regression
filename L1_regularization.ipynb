{
 "cells": [
  {
   "cell_type": "code",
   "execution_count": 2,
   "metadata": {},
   "outputs": [],
   "source": [
    "import numpy as np\n",
    "import matplotlib.pyplot as plt"
   ]
  },
  {
   "cell_type": "code",
   "execution_count": 15,
   "metadata": {},
   "outputs": [],
   "source": [
    "N=50\n",
    "D=50\n",
    "\n",
    "X=(np.random.random((N,D))-0.5)*10\n",
    "true_w=np.array([1,0.5,-0.5]+[0]*(D-3))\n",
    "Y=X.dot(true_w)+np.random.rand(N)*0.5    #for every indice add the separate noise"
   ]
  },
  {
   "cell_type": "code",
   "execution_count": 13,
   "metadata": {},
   "outputs": [
    {
     "data": {
      "text/plain": [
       "(50, 50)"
      ]
     },
     "execution_count": 13,
     "metadata": {},
     "output_type": "execute_result"
    }
   ],
   "source": [
    "np.shape(X)"
   ]
  },
  {
   "cell_type": "code",
   "execution_count": 14,
   "metadata": {},
   "outputs": [
    {
     "data": {
      "text/plain": [
       "(50,)"
      ]
     },
     "execution_count": 14,
     "metadata": {},
     "output_type": "execute_result"
    }
   ],
   "source": [
    "np.shape(true_w)"
   ]
  },
  {
   "cell_type": "code",
   "execution_count": 16,
   "metadata": {},
   "outputs": [
    {
     "data": {
      "text/plain": [
       "array([ 1. ,  0.5, -0.5,  0. ,  0. ,  0. ,  0. ,  0. ,  0. ,  0. ,  0. ,\n",
       "        0. ,  0. ,  0. ,  0. ,  0. ,  0. ,  0. ,  0. ,  0. ,  0. ,  0. ,\n",
       "        0. ,  0. ,  0. ,  0. ,  0. ,  0. ,  0. ,  0. ,  0. ,  0. ,  0. ,\n",
       "        0. ,  0. ,  0. ,  0. ,  0. ,  0. ,  0. ,  0. ,  0. ,  0. ,  0. ,\n",
       "        0. ,  0. ,  0. ,  0. ,  0. ,  0. ])"
      ]
     },
     "execution_count": 16,
     "metadata": {},
     "output_type": "execute_result"
    }
   ],
   "source": [
    "true_w"
   ]
  },
  {
   "cell_type": "code",
   "execution_count": 19,
   "metadata": {},
   "outputs": [
    {
     "data": {
      "text/plain": [
       "array([0.00827909, 0.06871574, 0.25793852, 0.06370136, 0.16386216,\n",
       "       0.04493253, 0.27888073, 0.0609332 , 0.07515482, 0.21439788,\n",
       "       0.43167133, 0.04582272, 0.04976775, 0.44366707, 0.02316563,\n",
       "       0.1352668 , 0.4990701 , 0.43708145, 0.12298776, 0.14897359,\n",
       "       0.47292007, 0.07565978, 0.37753097, 0.06928357, 0.27139026,\n",
       "       0.13773287, 0.4430452 , 0.18879698, 0.26793254, 0.10282309,\n",
       "       0.40409308, 0.48362726, 0.24227554, 0.08414764, 0.20283526,\n",
       "       0.30834063, 0.27742889, 0.11281888, 0.08339521, 0.24946995,\n",
       "       0.07769548, 0.41684969, 0.27424616, 0.07549207, 0.31389694,\n",
       "       0.11769397, 0.45773246, 0.05473711, 0.2873248 , 0.41502465])"
      ]
     },
     "execution_count": 19,
     "metadata": {},
     "output_type": "execute_result"
    }
   ],
   "source": [
    "np.random.rand(N)*0.5\n"
   ]
  },
  {
   "cell_type": "code",
   "execution_count": 24,
   "metadata": {},
   "outputs": [],
   "source": [
    "sigma_=np.sqrt(1/D)\n",
    "w_alpha=sigma_*(np.random.rand(D))+0.0"
   ]
  },
  {
   "cell_type": "code",
   "execution_count": 25,
   "metadata": {},
   "outputs": [
    {
     "data": {
      "text/plain": [
       "array([0.0030187 , 0.03816802, 0.12850131, 0.00085838, 0.11405882,\n",
       "       0.05282314, 0.01448297, 0.05429666, 0.04591838, 0.00017793,\n",
       "       0.01993657, 0.08764814, 0.13554819, 0.13020876, 0.0187326 ,\n",
       "       0.0503196 , 0.1237914 , 0.11753355, 0.1331321 , 0.10463716,\n",
       "       0.14092693, 0.13369323, 0.08385944, 0.03620336, 0.13635485,\n",
       "       0.0670145 , 0.04249114, 0.12147941, 0.11956553, 0.077707  ,\n",
       "       0.02044713, 0.01957435, 0.13419238, 0.09838141, 0.01638304,\n",
       "       0.12625651, 0.01893931, 0.08427672, 0.00320054, 0.0100877 ,\n",
       "       0.07124993, 0.03236045, 0.13259898, 0.02949581, 0.03003414,\n",
       "       0.01339436, 0.02730172, 0.0685109 , 0.05716536, 0.05588346])"
      ]
     },
     "execution_count": 25,
     "metadata": {},
     "output_type": "execute_result"
    }
   ],
   "source": [
    "w_alpha"
   ]
  },
  {
   "cell_type": "code",
   "execution_count": 75,
   "metadata": {},
   "outputs": [
    {
     "name": "stdout",
     "output_type": "stream",
     "text": [
      "No L1 term R^2 0.9998462161379397\n",
      "L1=10 0.9595083742757552\n"
     ]
    }
   ],
   "source": [
    "alpha_=0.001      #[[0.001,0.001,0.001]]\n",
    "#alpha_=[0.2,0.1,0.01]   #did not make a differnece at high iterations, get to coss=0.0006720300664445527\n",
    "costs=[]\n",
    "costs_L1=[]\n",
    "itr=[]\n",
    "itr_L1=[]\n",
    "\n",
    "sigma_=np.sqrt(1/D)\n",
    "w_alpha=sigma_*(np.random.rand(D))+0.0\n",
    "w_backup=w_alpha   # to have same seed initilization\n",
    "\n",
    "for i in range(100):\n",
    "    \n",
    "    y_new=X.dot(w_alpha)\n",
    "    delta=(y_new-Y)\n",
    "    w_alpha=w_alpha-alpha_*(X.T.dot(delta))\n",
    "    mse=(delta.dot(delta))/N\n",
    "    costs.append(mse)\n",
    "    itr.append(i)\n",
    "    #print(w_alpha)\n",
    "w_1=w_alpha    \n",
    "R_squared=1-(((Y-y_new).dot(Y-y_new))/((Y-Y.mean()).dot(Y-Y.mean())))    \n",
    "print('No L1 term R^2',R_squared)\n",
    "\n",
    "w_alpha=w_backup   \n",
    "L1=10.0\n",
    "\n",
    "for i in range(100):\n",
    "    \n",
    "    y_new=X.dot(w_alpha)\n",
    "    delta=(y_new-Y)\n",
    "    w_alpha=w_alpha-alpha_*((X.T.dot(delta))+L1*(np.sign(w_alpha)))\n",
    "    mse=(delta.dot(delta))/N\n",
    "    costs_L1.append(mse)\n",
    "    itr_L1.append(i)\n",
    "    #print(w_alpha)   \n",
    "w_2=w_alpha\n",
    "R_squared=1-(((Y-y_new).dot(Y-y_new))/((Y-Y.mean()).dot(Y-Y.mean())))    \n",
    "print('L1=10',R_squared)"
   ]
  },
  {
   "cell_type": "code",
   "execution_count": 76,
   "metadata": {},
   "outputs": [
    {
     "data": {
      "image/png": "[encoded data removed]",
      "text/plain": [
       "<Figure size 432x288 with 1 Axes>"
      ]
     },
     "metadata": {},
     "output_type": "display_data"
    }
   ],
   "source": [
    "fig=plt.figure()\n",
    "plt.plot(itr,costs,label='No L1 term  R^2 0.9998')\n",
    "plt.plot(itr_L1,costs_L1,label='L1=10         R^2 0.9614')\n",
    "plt.legend()\n",
    "plt.title('Cost function vs. itr')\n",
    "#plt.xlim(-1,50)\n",
    "plt.show()"
   ]
  },
  {
   "cell_type": "code",
   "execution_count": 77,
   "metadata": {},
   "outputs": [
    {
     "data": {
      "image/png": "[encoded data removed]",
      "text/plain": [
       "<Figure size 432x288 with 1 Axes>"
      ]
     },
     "metadata": {},
     "output_type": "display_data"
    }
   ],
   "source": [
    "fig=plt.figure()\n",
    "plt.plot(w_1,label='No L1 term  R^2 0.9998')\n",
    "plt.plot(w_2,label='L1=10         R^2 0.9614')\n",
    "plt.plot(true_w,label='True_w')\n",
    "plt.legend()\n",
    "plt.title('w')\n",
    "#plt.xlim(-1,50)\n",
    "plt.show()    #more noise in w with L1=0 and further than true_w"
   ]
  },
  {
   "cell_type": "code",
   "execution_count": null,
   "metadata": {},
   "outputs": [],
   "source": []
  }
 ],
 "metadata": {
  "kernelspec": {
   "display_name": "Python 3",
   "language": "python",
   "name": "python3"
  },
  "language_info": {
   "codemirror_mode": {
    "name": "ipython",
    "version": 3
   },
   "file_extension": ".py",
   "mimetype": "text/x-python",
   "name": "python",
   "nbconvert_exporter": "python",
   "pygments_lexer": "ipython3",
   "version": "3.6.4"
  }
 },
 "nbformat": 4,
 "nbformat_minor": 2
}
