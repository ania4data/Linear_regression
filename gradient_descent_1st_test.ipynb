{
 "cells": [
  {
   "cell_type": "code",
   "execution_count": 9,
   "metadata": {},
   "outputs": [],
   "source": [
    "import numpy as np\n",
    "import matplotlib.pyplot as plt"
   ]
  },
  {
   "cell_type": "code",
   "execution_count": 43,
   "metadata": {},
   "outputs": [
    {
     "data": {
      "text/plain": [
       "<matplotlib.collections.PathCollection at 0x20bd339e7b8>"
      ]
     },
     "execution_count": 43,
     "metadata": {},
     "output_type": "execute_result"
    },
    {
     "data": {
      "image/png": "[encoded data removed]",
      "text/plain": [
       "<Figure size 432x288 with 1 Axes>"
      ]
     },
     "metadata": {},
     "output_type": "display_data"
    }
   ],
   "source": [
    "w1=20\n",
    "w2=20\n",
    "w3=20\n",
    "alpha1=0.01\n",
    "alpha2=0.1\n",
    "alpha3=0.2\n",
    "\n",
    "W=[]\n",
    "II=[]\n",
    "list_=np.arange(1,200)\n",
    "for i in list_:\n",
    "    w1=w1-alpha1*2*w1\n",
    "    w2=w2-alpha2*2*w2\n",
    "    w3=w3-alpha3*2*w3\n",
    "    II.append(i)\n",
    "    W.append([w1,w2,w3])\n",
    "    #print(i,w1,w2,w3)\n",
    "W=np.array(W)\n",
    "#W[:,0]\n",
    "plt.scatter(II,W[:,0])\n",
    "plt.scatter(II,W[:,1])\n",
    "plt.scatter(II,W[:,2])\n",
    "#W[:,0]"
   ]
  },
  {
   "cell_type": "code",
   "execution_count": 62,
   "metadata": {},
   "outputs": [
    {
     "data": {
      "text/plain": [
       "<matplotlib.collections.PathCollection at 0x20bd4558518>"
      ]
     },
     "execution_count": 62,
     "metadata": {},
     "output_type": "execute_result"
    },
    {
     "data": {
      "image/png": "[encoded data removed]",
      "text/plain": [
       "<Figure size 432x288 with 1 Axes>"
      ]
     },
     "metadata": {},
     "output_type": "display_data"
    }
   ],
   "source": [
    "w1=10\n",
    "w2=10\n",
    "\n",
    "alpha1=0.001\n",
    "alpha2=0.0001\n",
    "\n",
    "\n",
    "W=[]\n",
    "II=[]\n",
    "list_=np.arange(1,100000)\n",
    "for i in list_:\n",
    "    w1=w1-alpha1*2*w1\n",
    "    w2=w2-alpha2*4*(w2**3)\n",
    "\n",
    "    II.append(i)\n",
    "    W.append([w1,w2])\n",
    "    #print(i,w1,w2)\n",
    "W=np.array(W)\n",
    "#W[:,0]\n",
    "plt.scatter(II,W[:,0])\n",
    "plt.scatter(II,W[:,1])\n",
    "\n",
    "#W[:,0]"
   ]
  },
  {
   "cell_type": "code",
   "execution_count": null,
   "metadata": {},
   "outputs": [],
   "source": []
  }
 ],
 "metadata": {
  "kernelspec": {
   "display_name": "Python 3",
   "language": "python",
   "name": "python3"
  },
  "language_info": {
   "codemirror_mode": {
    "name": "ipython",
    "version": 3
   },
   "file_extension": ".py",
   "mimetype": "text/x-python",
   "name": "python",
   "nbconvert_exporter": "python",
   "pygments_lexer": "ipython3",
   "version": "3.6.4"
  }
 },
 "nbformat": 4,
 "nbformat_minor": 2
}
